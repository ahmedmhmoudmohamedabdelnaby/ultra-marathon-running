{
  "nbformat": 4,
  "nbformat_minor": 0,
  "metadata": {
    "colab": {
      "private_outputs": true,
      "provenance": []
    },
    "kernelspec": {
      "name": "python3",
      "display_name": "Python 3"
    },
    "language_info": {
      "name": "python"
    }
  },
  "cells": [
    {
      "cell_type": "code",
      "execution_count": null,
      "metadata": {
        "id": "uvScUnrYwCYD"
      },
      "outputs": [],
      "source": [
        "import numpy as np\n",
        "import pandas as pd\n",
        "import warnings\n",
        "import os\n",
        "for dirname, _, filenames in os.walk('/kaggle/input'):\n",
        "    for filename in filenames:\n",
        "        print(os.path.join(dirname, filename))\n",
        "warnings.filterwarnings('ignore')\n",
        "import plotly.express as px\n",
        "import seaborn as sns\n",
        "import matplotlib.pyplot as plt\n",
        "plt.figure(figsize =(12,8))"
      ]
    },
    {
      "cell_type": "code",
      "source": [
        "df = pd.read_csv('/content/TWO_CENTURIES_OF_UM_RACES.csv')\n",
        "df.head()"
      ],
      "metadata": {
        "id": "7goAHKEWwdpa"
      },
      "execution_count": null,
      "outputs": []
    },
    {
      "cell_type": "code",
      "source": [
        "df.shape"
      ],
      "metadata": {
        "id": "Beb5XGvFwsvG"
      },
      "execution_count": null,
      "outputs": []
    },
    {
      "cell_type": "code",
      "source": [
        "df.dtypes"
      ],
      "metadata": {
        "id": "jysnpheYwzRl"
      },
      "execution_count": null,
      "outputs": []
    },
    {
      "cell_type": "code",
      "source": [
        "df.info"
      ],
      "metadata": {
        "id": "XoEiSGl1w2V8"
      },
      "execution_count": null,
      "outputs": []
    },
    {
      "cell_type": "code",
      "source": [
        "df.drop_duplicates(inplace= True)"
      ],
      "metadata": {
        "id": "e_TGQtE8w6_J"
      },
      "execution_count": null,
      "outputs": []
    },
    {
      "cell_type": "code",
      "source": [
        "df"
      ],
      "metadata": {
        "id": "3eRgmSFNxDhK"
      },
      "execution_count": null,
      "outputs": []
    },
    {
      "cell_type": "markdown",
      "source": [
        "# **How many events in each country?**"
      ],
      "metadata": {
        "id": "CKBtdu2jxKyH"
      }
    },
    {
      "cell_type": "code",
      "source": [
        "df['Event name'].str.split('(').str.get(1).str.split(')').str.get(0).value_counts().head(10).plot(kind='bar',title='No of Events in each country',ylabel='Count',xlabel='Country',color='lightblue',figsize=(10,5))"
      ],
      "metadata": {
        "id": "PLKGHVprxBDj"
      },
      "execution_count": null,
      "outputs": []
    },
    {
      "cell_type": "markdown",
      "source": [
        "data transformation (select only france and prepare for analysis)"
      ],
      "metadata": {
        "id": "guNpyDgnxUfI"
      }
    },
    {
      "cell_type": "code",
      "source": [
        "df=df[df['Event name'].str.split('(').str.get(1).str.split(')').str.get(0)=='FRA']\n",
        "df.shape"
      ],
      "metadata": {
        "id": "sWrZ3TOCxPL5"
      },
      "execution_count": null,
      "outputs": []
    },
    {
      "cell_type": "code",
      "source": [
        "df=df[df['Athlete country']=='FRA']\n",
        "df"
      ],
      "metadata": {
        "id": "5Jii7ElfxXOL"
      },
      "execution_count": null,
      "outputs": []
    },
    {
      "cell_type": "code",
      "source": [
        "df['Event distance/length'].nunique()"
      ],
      "metadata": {
        "id": "Z_BPwL6sxbTE"
      },
      "execution_count": null,
      "outputs": []
    },
    {
      "cell_type": "code",
      "source": [
        "df['Event distance/length'].value_counts()"
      ],
      "metadata": {
        "id": "jDiEpTzPxgUJ"
      },
      "execution_count": null,
      "outputs": []
    },
    {
      "cell_type": "markdown",
      "source": [
        "keep only most occurs (100km,50km,45km,55km,80km)"
      ],
      "metadata": {
        "id": "uNLHJtzqxm3o"
      }
    },
    {
      "cell_type": "code",
      "source": [
        "df = df[df['Event distance/length'].isin(['100km','50km','45km','55km','80km'])]\n",
        "df"
      ],
      "metadata": {
        "id": "jxUXDahXxiT3"
      },
      "execution_count": null,
      "outputs": []
    },
    {
      "cell_type": "markdown",
      "source": [
        "Bar graph showing the 10 most frequent event distances/lengths with the number of occurrences for each distance/length."
      ],
      "metadata": {
        "id": "1K6-knGBGTl5"
      }
    },
    {
      "cell_type": "code",
      "source": [
        "df['Event distance/length'].value_counts().head(10).plot(kind='bar',title='no of distace',xlabel='Event distance/length',ylabel='amount of km',color='purple')"
      ],
      "metadata": {
        "id": "Qu3xTEAKxlZQ"
      },
      "execution_count": null,
      "outputs": []
    },
    {
      "cell_type": "code",
      "source": [
        "df['Athlete club'].value_counts()"
      ],
      "metadata": {
        "id": "NnjYv1XZxwvL"
      },
      "execution_count": null,
      "outputs": []
    },
    {
      "cell_type": "code",
      "source": [
        "df['Athlete club'].isnull().sum()"
      ],
      "metadata": {
        "id": "NmnzLjnfx1A0"
      },
      "execution_count": null,
      "outputs": []
    },
    {
      "cell_type": "code",
      "source": [
        "df['Athlete club'].fillna(0)"
      ],
      "metadata": {
        "id": "CbxlXvC4x4ak"
      },
      "execution_count": null,
      "outputs": []
    },
    {
      "cell_type": "code",
      "source": [
        "df['Event name'].value_counts()"
      ],
      "metadata": {
        "id": "bIRFUgZGx3B7"
      },
      "execution_count": null,
      "outputs": []
    },
    {
      "cell_type": "code",
      "source": [
        "df.isnull().sum()"
      ],
      "metadata": {
        "id": "eulKsVulx6of"
      },
      "execution_count": null,
      "outputs": []
    },
    {
      "cell_type": "code",
      "source": [
        "df=df.dropna(subset=['Athlete year of birth'])\n",
        "df"
      ],
      "metadata": {
        "id": "AwXiWbzmx9TA"
      },
      "execution_count": null,
      "outputs": []
    },
    {
      "cell_type": "code",
      "source": [
        "df.isnull().sum()"
      ],
      "metadata": {
        "id": "-zyFRm3ux_V5"
      },
      "execution_count": null,
      "outputs": []
    },
    {
      "cell_type": "code",
      "source": [
        "df['Athlete year of birth']=df['Athlete year of birth'].astype('int64')\n",
        "df"
      ],
      "metadata": {
        "id": "cBF5O2NPyByQ"
      },
      "execution_count": null,
      "outputs": []
    },
    {
      "cell_type": "code",
      "source": [
        "df['Athlete_Age']=df['Year of event']-df['Athlete year of birth']\n",
        "df"
      ],
      "metadata": {
        "id": "gCTxSa2MyGeF"
      },
      "execution_count": null,
      "outputs": []
    },
    {
      "cell_type": "code",
      "source": [
        "df['Athlete performance'] = df['Athlete performance'].str.split(\" \").str.get(0)\n",
        "df"
      ],
      "metadata": {
        "id": "QVWKiwunyIA_"
      },
      "execution_count": null,
      "outputs": []
    },
    {
      "cell_type": "code",
      "source": [
        "df=df.drop_duplicates()"
      ],
      "metadata": {
        "id": "cXc_pllhyYPL"
      },
      "execution_count": null,
      "outputs": []
    },
    {
      "cell_type": "code",
      "source": [
        "df=df.reset_index()"
      ],
      "metadata": {
        "id": "N2lmQQ9kybgp"
      },
      "execution_count": null,
      "outputs": []
    },
    {
      "cell_type": "code",
      "source": [
        "df['Athlete average speed']=df['Athlete average speed'].astype('float64')"
      ],
      "metadata": {
        "id": "617_euxsyfmh"
      },
      "execution_count": null,
      "outputs": []
    },
    {
      "cell_type": "code",
      "source": [
        "df = df[df['Athlete average speed'] < 25]\n",
        "df"
      ],
      "metadata": {
        "id": "vRZOuif8ydsw"
      },
      "execution_count": null,
      "outputs": []
    },
    {
      "cell_type": "code",
      "source": [
        "df=df.drop(['Athlete club','Athlete year of birth'],axis=1)"
      ],
      "metadata": {
        "id": "mnNRU3GNyhdO"
      },
      "execution_count": null,
      "outputs": []
    },
    {
      "cell_type": "code",
      "source": [
        "df.describe().T"
      ],
      "metadata": {
        "id": "wN2LDryLyk96"
      },
      "execution_count": null,
      "outputs": []
    },
    {
      "cell_type": "code",
      "source": [
        "df"
      ],
      "metadata": {
        "id": "nuVKXHy9yo_j"
      },
      "execution_count": null,
      "outputs": []
    },
    {
      "cell_type": "code",
      "source": [
        "# number of alhlete participated in each event\n",
        "df['Event name'].value_counts().head().plot(kind='bar',title='Number of Athlete',xlabel='Event Name',ylabel='NO. of Athlete ',\n",
        "                                           figsize=(10,6),color='red')"
      ],
      "metadata": {
        "id": "ScKxyf6oyrYG"
      },
      "execution_count": null,
      "outputs": []
    },
    {
      "cell_type": "markdown",
      "source": [
        "The Number of Race in 50 km,100 km,24h and 12h category By gender"
      ],
      "metadata": {
        "id": "q8KQFQtcyydc"
      }
    },
    {
      "cell_type": "code",
      "source": [
        "#Athelete participated gender wise in each Event distance/length.\n",
        "sns.displot(data=df,kind='hist',x='Event distance/length',hue='Athlete gender',binwidth=5)\n",
        "plt.title('The Number of Race in 100km,50km,45km,55km,80km category By gender')"
      ],
      "metadata": {
        "id": "FYwUK-IUyzCQ"
      },
      "execution_count": null,
      "outputs": []
    },
    {
      "cell_type": "code",
      "source": [
        "race_by_gender=pd.crosstab(index=df['Event distance/length'],columns=df['Athlete gender'])\n",
        "race_by_gender"
      ],
      "metadata": {
        "id": "GjEQ1JBVyvzR"
      },
      "execution_count": null,
      "outputs": []
    },
    {
      "cell_type": "markdown",
      "source": [
        "Distributions of Athlete age"
      ],
      "metadata": {
        "id": "8cpXr5hyzHus"
      }
    },
    {
      "cell_type": "code",
      "source": [
        "sns.displot(data=df,x='Athlete_Age',kind='hist',color='blue',kde='True')\n",
        "plt.title(\"Distributions of Athlete age\")"
      ],
      "metadata": {
        "id": "Wp1yjRvcy9IJ"
      },
      "execution_count": null,
      "outputs": []
    },
    {
      "cell_type": "markdown",
      "source": [
        "Distributions of Athlete average speed"
      ],
      "metadata": {
        "id": "KiqxnZlKzST3"
      }
    },
    {
      "cell_type": "code",
      "source": [
        "sns.displot(data=df,x='Athlete average speed',color='grey',kde=True)\n",
        "plt.title(\"Distributions of Athlete average speed\")"
      ],
      "metadata": {
        "id": "H7QIZtD1zEa_"
      },
      "execution_count": null,
      "outputs": []
    },
    {
      "cell_type": "code",
      "source": [
        "age_vs_speed=df.groupby(['Athlete age category'])['Athlete average speed'].agg(['mean','count']).sort_values(by='mean',ascending=False).query('count>20')\n",
        "age_vs_speed"
      ],
      "metadata": {
        "id": "9qx0-hLszWdk"
      },
      "execution_count": null,
      "outputs": []
    },
    {
      "cell_type": "code",
      "source": [
        "plt.figure(figsize=(10, 6))\n",
        "plt.plot(age_vs_speed.index, age_vs_speed['mean'], marker='x', color='r', linestyle='--')\n",
        "plt.xlabel('Age group')\n",
        "plt.ylabel('Average Speed')\n",
        "plt.title('Average speed vs Age')\n",
        "plt.grid(True)\n",
        "plt.tight_layout()\n",
        "plt.show()"
      ],
      "metadata": {
        "id": "PeL55Quzzaec"
      },
      "execution_count": null,
      "outputs": []
    },
    {
      "cell_type": "code",
      "source": [
        "distance_gender=df.groupby(['Event distance/length','Athlete gender'])['Athlete average speed'].agg(['mean','count']).sort_values(by='mean',ascending=False)\n",
        "data=distance_gender.reset_index()\n",
        "data"
      ],
      "metadata": {
        "id": "LI_r82qAzY8v"
      },
      "execution_count": null,
      "outputs": []
    },
    {
      "cell_type": "markdown",
      "source": [
        "Athlete average speed by Event Distance and Gender"
      ],
      "metadata": {
        "id": "NraXBeMNzh_v"
      }
    },
    {
      "cell_type": "code",
      "source": [
        "plt.figure(figsize=(10, 6))\n",
        "sns.barplot(x='Event distance/length', y='mean', hue='Athlete gender', data=data)\n",
        "plt.xlabel('Event distance/length')\n",
        "plt.ylabel('Athlete average speed')\n",
        "plt.title('Athlete average speed by Event Distance and Gender')\n",
        "plt.legend(title='Athlete Gender')\n",
        "plt.show()"
      ],
      "metadata": {
        "id": "z3J6r_cozczc"
      },
      "execution_count": null,
      "outputs": []
    },
    {
      "cell_type": "code",
      "source": [
        "distance = df.groupby(['Event distance/length','Athlete gender']).agg({'Athlete gender': 'count', 'Athlete average speed': ['mean', 'count']})\n",
        "distance"
      ],
      "metadata": {
        "id": "XEfBCuKrzfYg"
      },
      "execution_count": null,
      "outputs": []
    },
    {
      "cell_type": "markdown",
      "source": [
        "the relationship between the length of the race and athlethe average speed"
      ],
      "metadata": {
        "id": "zqt4l-UP0BMu"
      }
    },
    {
      "cell_type": "code",
      "source": [
        "# the relationship between the length of the race and athlethe average speed\n",
        "plt.figure(figsize=(12, 6))\n",
        "sns.violinplot(data =df, x = 'Event distance/length', y='Athlete average speed', hue = 'Athlete gender', split = True, inner='quartz')\n",
        "plt.tight_layout()"
      ],
      "metadata": {
        "id": "mGla_Fxtz-2I"
      },
      "execution_count": null,
      "outputs": []
    },
    {
      "cell_type": "code",
      "source": [
        "#this will covert event date to fix format will will be easily Accessible\n",
        "df['Event dates']=pd.to_datetime(df['Event dates'],errors='coerce')"
      ],
      "metadata": {
        "id": "XuDH3th20Ebn"
      },
      "execution_count": null,
      "outputs": []
    },
    {
      "cell_type": "code",
      "source": [
        "df['Athlete performance']=pd.to_datetime(df['Athlete performance'],errors='coerce')"
      ],
      "metadata": {
        "id": "DiMiSpCa0KBU"
      },
      "execution_count": null,
      "outputs": []
    },
    {
      "cell_type": "code",
      "source": [
        "filtered_df = df[(df['Event distance/length'] == '80km') | (df['Event distance/length'] == '100km')]\n",
        "sns.boxplot(y=filtered_df['Athlete performance'].dt.hour,x=filtered_df['Event distance/length'])"
      ],
      "metadata": {
        "id": "QgW2Sdkf0Lqh"
      },
      "execution_count": null,
      "outputs": []
    },
    {
      "cell_type": "code",
      "source": [
        "filtered_df"
      ],
      "metadata": {
        "id": "6cQa4GET0NVG"
      },
      "execution_count": null,
      "outputs": []
    },
    {
      "cell_type": "markdown",
      "source": [
        "Time in hours vs Speed"
      ],
      "metadata": {
        "id": "R7JbhBDu0T_1"
      }
    },
    {
      "cell_type": "code",
      "source": [
        "plt.figure(figsize=(16,8))\n",
        "# Pass the entire filtered_df DataFrame as the data argument\n",
        "sns.pointplot(data=filtered_df, x=filtered_df['Athlete performance'].dt.hour, y=df['Athlete average speed'],estimator='mean')\n",
        "plt.title('Time vs Speed')"
      ],
      "metadata": {
        "id": "L9J0KeQ90SnJ"
      },
      "execution_count": null,
      "outputs": []
    },
    {
      "cell_type": "code",
      "source": [
        "df['Athlete_performance_in_hours']=df['Athlete performance'].dt.hour+(df['Athlete performance'].dt.minute/60)"
      ],
      "metadata": {
        "id": "sVumo0Zd0Xj5"
      },
      "execution_count": null,
      "outputs": []
    },
    {
      "cell_type": "code",
      "source": [
        "events_by_hours=df.groupby('Event name')['Athlete_performance_in_hours'].agg(['mean','count','min','max']).query('count>20')\n",
        "events_by_hours"
      ],
      "metadata": {
        "id": "erYjHNCN0qRu"
      },
      "execution_count": null,
      "outputs": []
    },
    {
      "cell_type": "code",
      "source": [
        "most_performance_time=events_by_hours.sort_values(by='mean',ascending=False)\n",
        "most_performance_time"
      ],
      "metadata": {
        "id": "GIMe4KZn0sc-"
      },
      "execution_count": null,
      "outputs": []
    },
    {
      "cell_type": "code",
      "source": [
        "plt.figure(figsize=(10, 6))\n",
        "plt.plot(most_performance_time.head().index, most_performance_time.head()['mean'], marker='o', color='b', linestyle='-')\n",
        "plt.xlabel('Event name')\n",
        "plt.ylabel('Time in hours')\n",
        "plt.title('Top 5 Event name that has most performance time in hours')\n",
        "plt.xticks(rotation=45)\n",
        "plt.grid(True)\n",
        "plt.tight_layout()\n",
        "plt.show()"
      ],
      "metadata": {
        "id": "qEpzt88l0wqR"
      },
      "execution_count": null,
      "outputs": []
    },
    {
      "cell_type": "code",
      "source": [
        "fastest_Finish=events_by_hours.sort_values(by='min',ascending=True)\n",
        "fastest_Finish"
      ],
      "metadata": {
        "id": "XdVu4_qv0yu0"
      },
      "execution_count": null,
      "outputs": []
    },
    {
      "cell_type": "code",
      "source": [
        "plt.figure(figsize=(10, 6))\n",
        "plt.bar(fastest_Finish.head().index, fastest_Finish.head()['min'])\n",
        "plt.xlabel('Event name')\n",
        "plt.ylabel('Time in hours')\n",
        "plt.title('Top 5 Event with fastest Finish')\n",
        "plt.xticks(rotation=45)\n",
        "plt.show()"
      ],
      "metadata": {
        "id": "lzuGNMpV02MT"
      },
      "execution_count": null,
      "outputs": []
    },
    {
      "cell_type": "code",
      "source": [
        "Slowest_Finish=events_by_hours.sort_values(by='max',ascending=False)\n",
        "Slowest_Finish"
      ],
      "metadata": {
        "id": "rYBh8ZHf05hD"
      },
      "execution_count": null,
      "outputs": []
    },
    {
      "cell_type": "code",
      "source": [
        "plt.figure(figsize=(10, 6))\n",
        "plt.bar(Slowest_Finish.head().index, Slowest_Finish.head()['max'],color='green')\n",
        "plt.xlabel('Event name')\n",
        "plt.ylabel('Time in hours')\n",
        "plt.title('Top 5 Event with slowest Finish')\n",
        "plt.xticks(rotation=45)\n",
        "plt.show()"
      ],
      "metadata": {
        "id": "mzSQrsoV1G1b"
      },
      "execution_count": null,
      "outputs": []
    },
    {
      "cell_type": "code",
      "source": [
        "df['seasons']=df['Event dates'].dt.month.apply(lambda x: 'winter' if x > 11 else 'fall' if x > 8 else 'summer' if x > 3 else 'spring' if x > 2 else 'winter')\n",
        "df"
      ],
      "metadata": {
        "id": "-XLL4nLM1JTH"
      },
      "execution_count": null,
      "outputs": []
    },
    {
      "cell_type": "code",
      "source": [
        "season_count=df.seasons.value_counts()\n",
        "season_count"
      ],
      "metadata": {
        "id": "1eIxAgbD1N-x"
      },
      "execution_count": null,
      "outputs": []
    },
    {
      "cell_type": "code",
      "source": [
        "px.pie(names=season_count.index,values=season_count.values,hole=.6)"
      ],
      "metadata": {
        "id": "RVe_bq3X1S8w"
      },
      "execution_count": null,
      "outputs": []
    },
    {
      "cell_type": "code",
      "source": [
        "#comparing the average speed by season and gender\n",
        "Season_race = df.groupby(['seasons','Athlete gender']).agg({'Athlete gender': 'count', 'Athlete average speed': ['mean', 'count']})\n",
        "Season_race"
      ],
      "metadata": {
        "id": "0eP0SgC61XuP"
      },
      "execution_count": null,
      "outputs": []
    },
    {
      "cell_type": "code",
      "source": [
        "Season_race = df.groupby('seasons')['Athlete average speed'].agg(['mean', 'count']).sort_values(by='mean',ascending=False)\n",
        "Season_race"
      ],
      "metadata": {
        "id": "Gp6Z9bbG1d-z"
      },
      "execution_count": null,
      "outputs": []
    },
    {
      "cell_type": "code",
      "source": [
        "sns.relplot(data = Season_race , x = 'seasons' , y = 'mean',kind = 'scatter' )\n",
        "plt.title('comparing the average speed by season')\n",
        "plt.show()"
      ],
      "metadata": {
        "id": "D0teD8KH1ccf"
      },
      "execution_count": null,
      "outputs": []
    },
    {
      "cell_type": "code",
      "source": [],
      "metadata": {
        "id": "WQ_Bb5gq1gQn"
      },
      "execution_count": null,
      "outputs": []
    }
  ]
}